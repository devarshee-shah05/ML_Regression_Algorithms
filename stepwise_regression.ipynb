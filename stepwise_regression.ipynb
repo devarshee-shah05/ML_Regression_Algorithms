{
 "cells": [
  {
   "attachments": {},
   "cell_type": "markdown",
   "metadata": {},
   "source": [
    "# Stepwise Regression"
   ]
  },
  {
   "attachments": {},
   "cell_type": "markdown",
   "metadata": {},
   "source": [
    "- So what exactly is stepwise regression?\n",
    "- stepwise regression is a process that helps determine which factors are important and which are not. Certain variables have a rather high p-value and were not meaningfully contributing to the accuracy of our prediction.\n",
    "- Use of a stepwise regression that uses a backwards elimination approach.\n",
    "- This is where all variables are initially included, and in each step, the most statistically insignificant variable is dropped. In other words, the most ‘useless’ variable is kicked. This is repeated until all variables left over are statistically significant."
   ]
  },
  {
   "attachments": {},
   "cell_type": "markdown",
   "metadata": {},
   "source": [
    "# The Coding Bits"
   ]
  },
  {
   "attachments": {},
   "cell_type": "markdown",
   "metadata": {},
   "source": [
    "https://towardsdatascience.com/stepwise-regression-tutorial-in-python-ebf7c782c922"
   ]
  },
  {
   "attachments": {},
   "cell_type": "markdown",
   "metadata": {},
   "source": [
    "# At last uses linear regression only:\n",
    "#### creating a linear model and prediction\n",
    "x = data[x_columns]\n",
    "\n",
    "linear_model = LinearRegression()\n",
    "\n",
    "linear_model.fit(x, y)\n",
    "\n",
    "sg_data = pd.read_csv('testing.csv')\n",
    "\n",
    "x_test = sg_data[x_columns]\n",
    "\n",
    "y_pred = linear_model.predict(x_test)\n",
    "\n",
    "print(\"Prediction for Singapore is \", y_pred)\n",
    "\n",
    ">> Prediction for Singapore is  [1774.45875071]"
   ]
  }
 ],
 "metadata": {
  "kernelspec": {
   "display_name": "Python 3",
   "language": "python",
   "name": "python3"
  },
  "language_info": {
   "name": "python",
   "version": "3.9.13 (tags/v3.9.13:6de2ca5, May 17 2022, 16:36:42) [MSC v.1929 64 bit (AMD64)]"
  },
  "orig_nbformat": 4,
  "vscode": {
   "interpreter": {
    "hash": "851ff218efcd81498dc9c820653768da923e2c65f9f829bf47135c29ac2320d0"
   }
  }
 },
 "nbformat": 4,
 "nbformat_minor": 2
}
